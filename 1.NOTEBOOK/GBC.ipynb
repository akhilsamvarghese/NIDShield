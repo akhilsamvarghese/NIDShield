{
 "cells": [
  {
   "cell_type": "code",
   "execution_count": 17,
   "metadata": {},
   "outputs": [],
   "source": [
    "import os\n",
    "import pandas as pd\n",
    "import numpy as np\n",
    "import matplotlib.pyplot as plt\n",
    "import seaborn as sns\n",
    "import time\n",
    "import pickle"
   ]
  },
  {
   "cell_type": "code",
   "execution_count": 18,
   "metadata": {},
   "outputs": [],
   "source": [
    "# Load the saved model\n",
    "GB_exported = pickle.load(open('/Users/akhilsamvarghese/Desktop/Projects/NIDShield/nids/2.saved-models/GB', 'rb'))\n",
    "DE=(\" Detected on the host network\")"
   ]
  },
  {
   "cell_type": "code",
   "execution_count": 19,
   "metadata": {},
   "outputs": [],
   "source": [
    "data = pd.DataFrame({\n",
    "    'duration': [123],\n",
    "    'protocol_type': ['tcp'],\n",
    "    'flag': ['S0'],\n",
    "    'src_bytes': [100],\n",
    "    'dst_bytes': [200],\n",
    "    'land': [0],\n",
    "    'wrong_fragment': [0],\n",
    "    'urgent': [0],\n",
    "    'hot': [0],\n",
    "    'num_failed_logins': [0],\n",
    "    'logged_in': [0],\n",
    "    'num_compromised': [0],\n",
    "    'root_shell': [0],\n",
    "    'su_attempted': [0],\n",
    "    'num_file_creations': [0],\n",
    "    'num_shells': [0],\n",
    "    'num_access_files': [0],\n",
    "    'num_outbound_cmds': [0],\n",
    "    'is_host_login': [0],\n",
    "    'is_guest_login': [0],\n",
    "    'count': [10],\n",
    "    'srv_count': [10],\n",
    "    'serror_rate': [0],\n",
    "    'rerror_rate': [0],\n",
    "    \n",
    "    'same_srv_rate': [0],\n",
    "    'diff_srv_rate': [0],\n",
    "    'srv_diff_host_rate': [0],\n",
    "    'dst_host_count': [1],\n",
    "    'dst_host_srv_count': [1],\n",
    "    \n",
    "    'dst_host_diff_srv_rate': [0],\n",
    "    'dst_host_same_src_port_rate': [0],\n",
    "    'dst_host_srv_diff_host_rate': [0],\n",
    "    \n",
    "\n",
    "    \n",
    "    \n",
    "})\n",
    "\n"
   ]
  },
  {
   "cell_type": "code",
   "execution_count": 20,
   "metadata": {},
   "outputs": [],
   "source": [
    "data.to_pickle(\"sample.df\")"
   ]
  },
  {
   "cell_type": "code",
   "execution_count": 21,
   "metadata": {},
   "outputs": [],
   "source": [
    "from_sample = pd.read_pickle(\"sample.df\")"
   ]
  },
  {
   "cell_type": "code",
   "execution_count": 22,
   "metadata": {},
   "outputs": [
    {
     "name": "stdout",
     "output_type": "stream",
     "text": [
      "   duration protocol_type flag  src_bytes  dst_bytes  land  wrong_fragment  \\\n",
      "0       123           tcp   S0        100        200     0               0   \n",
      "\n",
      "   urgent  hot  num_failed_logins  ...  serror_rate  rerror_rate  \\\n",
      "0       0    0                  0  ...            0            0   \n",
      "\n",
      "   same_srv_rate  diff_srv_rate  srv_diff_host_rate  dst_host_count  \\\n",
      "0              0              0                   0               1   \n",
      "\n",
      "   dst_host_srv_count  dst_host_diff_srv_rate  dst_host_same_src_port_rate  \\\n",
      "0                   1                       0                            0   \n",
      "\n",
      "   dst_host_srv_diff_host_rate  \n",
      "0                            0  \n",
      "\n",
      "[1 rows x 32 columns]\n"
     ]
    }
   ],
   "source": [
    "print(from_sample)"
   ]
  },
  {
   "cell_type": "code",
   "execution_count": 23,
   "metadata": {},
   "outputs": [],
   "source": [
    "data1 = pd.DataFrame({\n",
    "    'duration': [0],\n",
    "    'protocol_type': [1],\n",
    "    'flag': [1],\n",
    "    'src_bytes': [0],\n",
    "    'dst_bytes': [0],\n",
    "    'land': [0],\n",
    "    'wrong_fragment': [0],\n",
    "    'urgent': [0],\n",
    "    'hot': [0],\n",
    "    'num_failed_logins': [0],\n",
    "    'logged_in': [0],\n",
    "    'num_compromised': [0],\n",
    "    'root_shell': [0],\n",
    "    'su_attempted': [0],\n",
    "    'num_file_creations': [0],\n",
    "    'num_shells': [0],\n",
    "    'num_access_files': [0],\n",
    "    'num_outbound_cmds': [0],\n",
    "    'is_host_login': [0],\n",
    "    'is_guest_login': [6],\n",
    "    'count': [10],\n",
    "    'srv_count': [5],\n",
    "    'serror_rate': [0.83],\n",
    "    'rerror_rate': [0.0],\n",
    "    \n",
    "    'same_srv_rate': [0.83],\n",
    "    'diff_srv_rate': [0.33],\n",
    "    'srv_diff_host_rate': [0.0],\n",
    "    'dst_host_count': [5],\n",
    "    'dst_host_srv_count': [6],\n",
    "    \n",
    "    'dst_host_diff_srv_rate': [0.0],\n",
    "    'dst_host_same_src_port_rate': [0.2],\n",
    "    'dst_host_srv_diff_host_rate': [0.33],\n",
    "    \n",
    "\n",
    "    \n",
    "    \n",
    "})\n",
    "\n",
    "\n",
    "\n",
    "\t"
   ]
  },
  {
   "cell_type": "code",
   "execution_count": 24,
   "metadata": {},
   "outputs": [],
   "source": [
    "data1.to_pickle(\"sample1.df\")"
   ]
  },
  {
   "cell_type": "code",
   "execution_count": 25,
   "metadata": {},
   "outputs": [],
   "source": [
    "from_sample = pd.read_pickle(\"sample.df\")"
   ]
  },
  {
   "cell_type": "code",
   "execution_count": 26,
   "metadata": {},
   "outputs": [],
   "source": [
    "\n",
    "\n",
    "data2 = pd.DataFrame({\n",
    "    'duration': [1],\n",
    "    'protocol_type': [2],\n",
    "    'flag': [3],\n",
    "    'src_bytes': [100],\n",
    "    'dst_bytes': [200],\n",
    "    'land': [0],\n",
    "    'wrong_fragment': [1],\n",
    "    'urgent': [2],\n",
    "    'hot': [3],\n",
    "    'num_failed_logins': [4],\n",
    "    'logged_in': [1],\n",
    "    'num_compromised': [2],\n",
    "    'root_shell': [1],\n",
    "    'su_attempted': [0],\n",
    "    'num_file_creations': [1],\n",
    "    'num_shells': [0],\n",
    "    'num_access_files': [1],\n",
    "    'num_outbound_cmds': [0],\n",
    "    'is_host_login': [0],\n",
    "    'is_guest_login': [7],\n",
    "    'count': [15],\n",
    "    'srv_count': [10],\n",
    "    'serror_rate': [0.75],\n",
    "    'rerror_rate': [0.1],\n",
    "    'same_srv_rate': [0.75],\n",
    "    'diff_srv_rate': [0.25],\n",
    "    'srv_diff_host_rate': [0.1],\n",
    "    'dst_host_count': [10],\n",
    "    'dst_host_srv_count': [12],\n",
    "    'dst_host_diff_srv_rate': [0.1],\n",
    "    'dst_host_same_src_port_rate': [0.3],\n",
    "    'dst_host_srv_diff_host_rate': [0.25]\n",
    "})\n",
    "\n",
    "\n"
   ]
  },
  {
   "cell_type": "code",
   "execution_count": 27,
   "metadata": {},
   "outputs": [],
   "source": [
    "data_normal = pd.DataFrame({\n",
    "    'duration': [0],               # Normal connection durations can vary, so leave as is\n",
    "    'protocol_type': [1],          # TCP protocol, common in normal connections\n",
    "    'flag': [1],                   # Normal connection flag\n",
    "    'src_bytes': [500],            # Moderate amount of bytes sent\n",
    "    'dst_bytes': [1000],           # Moderate amount of bytes received\n",
    "    'land': [0],                   # Land attack not present\n",
    "    'wrong_fragment': [0],         # No wrong fragments\n",
    "    'urgent': [0],                 # No urgent packets\n",
    "    'hot': [0],                    # No hot indicators\n",
    "    'num_failed_logins': [0],      # No failed logins\n",
    "    'logged_in': [1],              # User is logged in\n",
    "    'num_compromised': [0],        # No compromised systems\n",
    "    'root_shell': [0],             # No root shell obtained\n",
    "    'su_attempted': [0],           # No su attempts\n",
    "    'num_file_creations': [0],     # No file creations\n",
    "    'num_shells': [0],             # No shells opened\n",
    "    'num_access_files': [0],       # No access files\n",
    "    'num_outbound_cmds': [0],      # No outbound commands\n",
    "    'is_host_login': [0],          # Not a host login\n",
    "    'is_guest_login': [0],         # Not a guest login\n",
    "    'count': [5],                  # Low count of connections to the same host\n",
    "    'srv_count': [5],              # Low count of connections to the same service\n",
    "    'serror_rate': [0.0],          # No serror rate (0%)\n",
    "    'rerror_rate': [0.0],          # No rerror rate (0%)\n",
    "    'same_srv_rate': [1.0],        # High rate of connections to the same service\n",
    "    'diff_srv_rate': [0.0],        # Low rate of different services\n",
    "    'srv_diff_host_rate': [0.0],   # Low rate of different hosts for the same service\n",
    "    'dst_host_count': [255],       # Maximum number of connections to the same destination host\n",
    "    'dst_host_srv_count': [255],   # Maximum number of connections to the same destination host service\n",
    "    'dst_host_diff_srv_rate': [0.0],  # Low rate of different services on the same destination host\n",
    "    'dst_host_same_src_port_rate': [1.0],  # High rate of connections from the same source port\n",
    "    'dst_host_srv_diff_host_rate': [0.0]   # Low rate of different destination hosts for the same service\n",
    "})\n"
   ]
  },
  {
   "cell_type": "code",
   "execution_count": 28,
   "metadata": {},
   "outputs": [],
   "source": [
    "\n",
    "\n",
    "data_normal1 = pd.DataFrame({\n",
    "    'duration': [0],               # Duration of the connection\n",
    "    'protocol_type': [0],          # Protocol type (0 for TCP, 1 for UDP, 2 for ICMP)\n",
    "    'flag': [1],                   # Flag indicating status of connection\n",
    "    'src_bytes': [0],              # Number of source bytes\n",
    "    'dst_bytes': [0],              # Number of destination bytes\n",
    "    'land': [0],                   # Land attack\n",
    "    'wrong_fragment': [0],         # Number of wrong fragments\n",
    "    'urgent': [0],                 # Urgent packet count\n",
    "    'hot': [0],                    # Number of \"hot\" indicators\n",
    "    'num_failed_logins': [0],      # Number of failed login attempts\n",
    "    'logged_in': [0],              # Whether user is logged in\n",
    "    'num_compromised': [0],        # Number of compromised conditions\n",
    "    'root_shell': [0],             # Whether root shell is obtained\n",
    "    'su_attempted': [0],           # Number of \"su\" root attempts\n",
    "    'num_file_creations': [0],     # Number of file creations\n",
    "    'num_shells': [0],             # Number of shell prompts\n",
    "    'num_access_files': [0],       # Number of access files\n",
    "    'num_outbound_cmds': [0],      # Number of outbound commands\n",
    "    'is_host_login': [0],          # Whether it is a host login\n",
    "    'is_guest_login': [0],         # Whether it is a guest login\n",
    "    'count': [10],                 # Number of connections to the same host\n",
    "    'srv_count': [10],             # Number of connections to the same service\n",
    "    'serror_rate': [0.0],          # % of connections that have \"SYN\" errors\n",
    "    'rerror_rate': [0.0],          # % of connections that have \"REJ\" errors\n",
    "    'same_srv_rate': [1.0],        # % of connections to the same service\n",
    "    'diff_srv_rate': [0.0],        # % of connections to different services\n",
    "    'srv_diff_host_rate': [0.0],   # % of connections to different hosts for the same service\n",
    "    'dst_host_count': [255],       # Number of connections to the same destination host\n",
    "    'dst_host_srv_count': [255],   # Number of connections to the same destination host service\n",
    "    'dst_host_diff_srv_rate': [0.0],  # % of different services on the same destination host\n",
    "    'dst_host_same_src_port_rate': [1.0],  # % of connections from the same source port\n",
    "    'dst_host_srv_diff_host_rate': [0.0]   # % of different destination hosts for the same service\n",
    "})\n",
    "\n"
   ]
  },
  {
   "cell_type": "code",
   "execution_count": 29,
   "metadata": {},
   "outputs": [],
   "source": [
    "data_normal1.to_pickle(\"data_dos.df\")"
   ]
  },
  {
   "cell_type": "code",
   "execution_count": 30,
   "metadata": {},
   "outputs": [],
   "source": [
    "new_row = pd.DataFrame({\n",
    "    'duration': [0],\n",
    "    'protocol_type': [1],\n",
    "    'flag': [0],\n",
    "    'src_bytes': [310],\n",
    "    'dst_bytes': [1881],\n",
    "    'land': [0],\n",
    "    'wrong_fragment': [0],\n",
    "    'urgent': [0],\n",
    "    'hot': [0],\n",
    "    'num_failed_logins': [0],\n",
    "    'logged_in': [1],\n",
    "    'num_compromised': [0],\n",
    "    'root_shell': [0],\n",
    "    'su_attempted': [0],\n",
    "    'num_file_creations': [0],\n",
    "    'num_shells': [0],\n",
    "    'num_access_files': [0],\n",
    "    'num_outbound_cmds': [0],\n",
    "    'is_host_login': [0],\n",
    "    'is_guest_login': [4],\n",
    "    'count': [5],\n",
    "    'srv_count': [0.0],\n",
    "    'serror_rate': [1.0],\n",
    "    'rerror_rate': [0.0],\n",
    "    'same_srv_rate': [0.0],\n",
    "    'diff_srv_rate': [0.01],\n",
    "    'srv_diff_host_rate': [0.05],\n",
    "    'dst_host_count': [86],\n",
    "    'dst_host_srv_count': [255],\n",
    "    'dst_host_diff_srv_rate': [0.0],\n",
    "    'dst_host_same_src_port_rate': [0.4],\n",
    "    'dst_host_srv_diff_host_rate': [0.0]\n",
    "})\n",
    "\n",
    "\n",
    "\n"
   ]
  },
  {
   "cell_type": "code",
   "execution_count": 31,
   "metadata": {},
   "outputs": [],
   "source": [
    "new_row.to_pickle(\"sample2.df\")"
   ]
  },
  {
   "cell_type": "code",
   "execution_count": 32,
   "metadata": {},
   "outputs": [
    {
     "data": {
      "text/plain": [
       "(1, 32)"
      ]
     },
     "execution_count": 32,
     "metadata": {},
     "output_type": "execute_result"
    }
   ],
   "source": [
    "data.shape"
   ]
  },
  {
   "cell_type": "code",
   "execution_count": 33,
   "metadata": {},
   "outputs": [],
   "source": [
    "from sklearn.preprocessing import LabelEncoder\n",
    "le = LabelEncoder()\n",
    "data['protocol_type'] = le.fit_transform(data['protocol_type'])\n",
    "data['flag'] = le.fit_transform(data['flag'])"
   ]
  },
  {
   "cell_type": "code",
   "execution_count": 35,
   "metadata": {},
   "outputs": [
    {
     "name": "stderr",
     "output_type": "stream",
     "text": [
      "/Users/akhilsamvarghese/anaconda3/envs/ai-demo/lib/python3.11/site-packages/sklearn/base.py:432: UserWarning: X has feature names, but GradientBoostingClassifier was fitted without feature names\n",
      "  warnings.warn(\n"
     ]
    },
    {
     "ename": "ValueError",
     "evalue": "could not convert string to float: 'tcp'",
     "output_type": "error",
     "traceback": [
      "\u001b[0;31m---------------------------------------------------------------------------\u001b[0m",
      "\u001b[0;31mValueError\u001b[0m                                Traceback (most recent call last)",
      "\u001b[0;32m/var/folders/w2/g69wp0m94033x48hfps56f4m0000gn/T/ipykernel_20528/4173015378.py\u001b[0m in \u001b[0;36m?\u001b[0;34m()\u001b[0m\n\u001b[1;32m      1\u001b[0m \u001b[0;31m# start_time = time.time()\u001b[0m\u001b[0;34m\u001b[0m\u001b[0;34m\u001b[0m\u001b[0m\n\u001b[0;32m----> 2\u001b[0;31m \u001b[0mY_test_pred6\u001b[0m \u001b[0;34m=\u001b[0m \u001b[0mGB_exported\u001b[0m\u001b[0;34m.\u001b[0m\u001b[0mpredict\u001b[0m\u001b[0;34m(\u001b[0m\u001b[0mfrom_sample\u001b[0m\u001b[0;34m)\u001b[0m\u001b[0;34m\u001b[0m\u001b[0;34m\u001b[0m\u001b[0m\n\u001b[0m\u001b[1;32m      3\u001b[0m \u001b[0;31m# end_time = time.time()\u001b[0m\u001b[0;34m\u001b[0m\u001b[0;34m\u001b[0m\u001b[0m\n\u001b[1;32m      4\u001b[0m \u001b[0mprint\u001b[0m\u001b[0;34m(\u001b[0m\u001b[0mY_test_pred6\u001b[0m \u001b[0;34m+\u001b[0m \u001b[0mDE\u001b[0m \u001b[0;34m)\u001b[0m\u001b[0;34m\u001b[0m\u001b[0;34m\u001b[0m\u001b[0m\n",
      "\u001b[0;32m~/anaconda3/envs/ai-demo/lib/python3.11/site-packages/sklearn/ensemble/_gb.py\u001b[0m in \u001b[0;36m?\u001b[0;34m(self, X)\u001b[0m\n\u001b[1;32m   1304\u001b[0m         \u001b[0;34m-\u001b[0m\u001b[0;34m-\u001b[0m\u001b[0;34m-\u001b[0m\u001b[0;34m-\u001b[0m\u001b[0;34m-\u001b[0m\u001b[0;34m-\u001b[0m\u001b[0;34m-\u001b[0m\u001b[0;34m\u001b[0m\u001b[0;34m\u001b[0m\u001b[0m\n\u001b[1;32m   1305\u001b[0m         \u001b[0my\u001b[0m \u001b[0;34m:\u001b[0m \u001b[0mndarray\u001b[0m \u001b[0mof\u001b[0m \u001b[0mshape\u001b[0m \u001b[0;34m(\u001b[0m\u001b[0mn_samples\u001b[0m\u001b[0;34m,\u001b[0m\u001b[0;34m)\u001b[0m\u001b[0;34m\u001b[0m\u001b[0;34m\u001b[0m\u001b[0m\n\u001b[1;32m   1306\u001b[0m             \u001b[0mThe\u001b[0m \u001b[0mpredicted\u001b[0m \u001b[0mvalues\u001b[0m\u001b[0;34m.\u001b[0m\u001b[0;34m\u001b[0m\u001b[0;34m\u001b[0m\u001b[0m\n\u001b[1;32m   1307\u001b[0m         \"\"\"\n\u001b[0;32m-> 1308\u001b[0;31m         \u001b[0mraw_predictions\u001b[0m \u001b[0;34m=\u001b[0m \u001b[0mself\u001b[0m\u001b[0;34m.\u001b[0m\u001b[0mdecision_function\u001b[0m\u001b[0;34m(\u001b[0m\u001b[0mX\u001b[0m\u001b[0;34m)\u001b[0m\u001b[0;34m\u001b[0m\u001b[0;34m\u001b[0m\u001b[0m\n\u001b[0m\u001b[1;32m   1309\u001b[0m         \u001b[0mencoded_labels\u001b[0m \u001b[0;34m=\u001b[0m \u001b[0mself\u001b[0m\u001b[0;34m.\u001b[0m\u001b[0m_loss\u001b[0m\u001b[0;34m.\u001b[0m\u001b[0m_raw_prediction_to_decision\u001b[0m\u001b[0;34m(\u001b[0m\u001b[0mraw_predictions\u001b[0m\u001b[0;34m)\u001b[0m\u001b[0;34m\u001b[0m\u001b[0;34m\u001b[0m\u001b[0m\n\u001b[1;32m   1310\u001b[0m         \u001b[0;32mreturn\u001b[0m \u001b[0mself\u001b[0m\u001b[0;34m.\u001b[0m\u001b[0mclasses_\u001b[0m\u001b[0;34m.\u001b[0m\u001b[0mtake\u001b[0m\u001b[0;34m(\u001b[0m\u001b[0mencoded_labels\u001b[0m\u001b[0;34m,\u001b[0m \u001b[0maxis\u001b[0m\u001b[0;34m=\u001b[0m\u001b[0;36m0\u001b[0m\u001b[0;34m)\u001b[0m\u001b[0;34m\u001b[0m\u001b[0;34m\u001b[0m\u001b[0m\n",
      "\u001b[0;32m~/anaconda3/envs/ai-demo/lib/python3.11/site-packages/sklearn/ensemble/_gb.py\u001b[0m in \u001b[0;36m?\u001b[0;34m(self, X)\u001b[0m\n\u001b[1;32m   1257\u001b[0m             \u001b[0morder\u001b[0m \u001b[0mof\u001b[0m \u001b[0mthe\u001b[0m \u001b[0mclasses\u001b[0m \u001b[0mcorresponds\u001b[0m \u001b[0mto\u001b[0m \u001b[0mthat\u001b[0m \u001b[0;32min\u001b[0m \u001b[0mthe\u001b[0m \u001b[0mattribute\u001b[0m\u001b[0;34m\u001b[0m\u001b[0;34m\u001b[0m\u001b[0m\n\u001b[1;32m   1258\u001b[0m             \u001b[0;34m:\u001b[0m\u001b[0mterm\u001b[0m\u001b[0;34m:\u001b[0m\u001b[0;31m`\u001b[0m\u001b[0mclasses_\u001b[0m\u001b[0;31m`\u001b[0m\u001b[0;34m.\u001b[0m \u001b[0mRegression\u001b[0m \u001b[0;32mand\u001b[0m \u001b[0mbinary\u001b[0m \u001b[0mclassification\u001b[0m \u001b[0mproduce\u001b[0m \u001b[0man\u001b[0m\u001b[0;34m\u001b[0m\u001b[0;34m\u001b[0m\u001b[0m\n\u001b[1;32m   1259\u001b[0m             \u001b[0marray\u001b[0m \u001b[0mof\u001b[0m \u001b[0mshape\u001b[0m \u001b[0;34m(\u001b[0m\u001b[0mn_samples\u001b[0m\u001b[0;34m,\u001b[0m\u001b[0;34m)\u001b[0m\u001b[0;34m.\u001b[0m\u001b[0;34m\u001b[0m\u001b[0;34m\u001b[0m\u001b[0m\n\u001b[1;32m   1260\u001b[0m         \"\"\"\n\u001b[0;32m-> 1261\u001b[0;31m         X = self._validate_data(\n\u001b[0m\u001b[1;32m   1262\u001b[0m             \u001b[0mX\u001b[0m\u001b[0;34m,\u001b[0m \u001b[0mdtype\u001b[0m\u001b[0;34m=\u001b[0m\u001b[0mDTYPE\u001b[0m\u001b[0;34m,\u001b[0m \u001b[0morder\u001b[0m\u001b[0;34m=\u001b[0m\u001b[0;34m\"C\"\u001b[0m\u001b[0;34m,\u001b[0m \u001b[0maccept_sparse\u001b[0m\u001b[0;34m=\u001b[0m\u001b[0;34m\"csr\"\u001b[0m\u001b[0;34m,\u001b[0m \u001b[0mreset\u001b[0m\u001b[0;34m=\u001b[0m\u001b[0;32mFalse\u001b[0m\u001b[0;34m\u001b[0m\u001b[0;34m\u001b[0m\u001b[0m\n\u001b[1;32m   1263\u001b[0m         )\n\u001b[1;32m   1264\u001b[0m         \u001b[0mraw_predictions\u001b[0m \u001b[0;34m=\u001b[0m \u001b[0mself\u001b[0m\u001b[0;34m.\u001b[0m\u001b[0m_raw_predict\u001b[0m\u001b[0;34m(\u001b[0m\u001b[0mX\u001b[0m\u001b[0;34m)\u001b[0m\u001b[0;34m\u001b[0m\u001b[0;34m\u001b[0m\u001b[0m\n",
      "\u001b[0;32m~/anaconda3/envs/ai-demo/lib/python3.11/site-packages/sklearn/base.py\u001b[0m in \u001b[0;36m?\u001b[0;34m(self, X, y, reset, validate_separately, **check_params)\u001b[0m\n\u001b[1;32m    561\u001b[0m \u001b[0;34m\u001b[0m\u001b[0m\n\u001b[1;32m    562\u001b[0m         \u001b[0;32mif\u001b[0m \u001b[0mno_val_X\u001b[0m \u001b[0;32mand\u001b[0m \u001b[0mno_val_y\u001b[0m\u001b[0;34m:\u001b[0m\u001b[0;34m\u001b[0m\u001b[0;34m\u001b[0m\u001b[0m\n\u001b[1;32m    563\u001b[0m             \u001b[0;32mraise\u001b[0m \u001b[0mValueError\u001b[0m\u001b[0;34m(\u001b[0m\u001b[0;34m\"Validation should be done on X, y or both.\"\u001b[0m\u001b[0;34m)\u001b[0m\u001b[0;34m\u001b[0m\u001b[0;34m\u001b[0m\u001b[0m\n\u001b[1;32m    564\u001b[0m         \u001b[0;32melif\u001b[0m \u001b[0;32mnot\u001b[0m \u001b[0mno_val_X\u001b[0m \u001b[0;32mand\u001b[0m \u001b[0mno_val_y\u001b[0m\u001b[0;34m:\u001b[0m\u001b[0;34m\u001b[0m\u001b[0;34m\u001b[0m\u001b[0m\n\u001b[0;32m--> 565\u001b[0;31m             \u001b[0mX\u001b[0m \u001b[0;34m=\u001b[0m \u001b[0mcheck_array\u001b[0m\u001b[0;34m(\u001b[0m\u001b[0mX\u001b[0m\u001b[0;34m,\u001b[0m \u001b[0minput_name\u001b[0m\u001b[0;34m=\u001b[0m\u001b[0;34m\"X\"\u001b[0m\u001b[0;34m,\u001b[0m \u001b[0;34m**\u001b[0m\u001b[0mcheck_params\u001b[0m\u001b[0;34m)\u001b[0m\u001b[0;34m\u001b[0m\u001b[0;34m\u001b[0m\u001b[0m\n\u001b[0m\u001b[1;32m    566\u001b[0m             \u001b[0mout\u001b[0m \u001b[0;34m=\u001b[0m \u001b[0mX\u001b[0m\u001b[0;34m\u001b[0m\u001b[0;34m\u001b[0m\u001b[0m\n\u001b[1;32m    567\u001b[0m         \u001b[0;32melif\u001b[0m \u001b[0mno_val_X\u001b[0m \u001b[0;32mand\u001b[0m \u001b[0;32mnot\u001b[0m \u001b[0mno_val_y\u001b[0m\u001b[0;34m:\u001b[0m\u001b[0;34m\u001b[0m\u001b[0;34m\u001b[0m\u001b[0m\n\u001b[1;32m    568\u001b[0m             \u001b[0my\u001b[0m \u001b[0;34m=\u001b[0m \u001b[0m_check_y\u001b[0m\u001b[0;34m(\u001b[0m\u001b[0my\u001b[0m\u001b[0;34m,\u001b[0m \u001b[0;34m**\u001b[0m\u001b[0mcheck_params\u001b[0m\u001b[0;34m)\u001b[0m\u001b[0;34m\u001b[0m\u001b[0;34m\u001b[0m\u001b[0m\n",
      "\u001b[0;32m~/anaconda3/envs/ai-demo/lib/python3.11/site-packages/sklearn/utils/validation.py\u001b[0m in \u001b[0;36m?\u001b[0;34m(array, accept_sparse, accept_large_sparse, dtype, order, copy, force_all_finite, ensure_2d, allow_nd, ensure_min_samples, ensure_min_features, estimator, input_name)\u001b[0m\n\u001b[1;32m    876\u001b[0m                         )\n\u001b[1;32m    877\u001b[0m                     \u001b[0marray\u001b[0m \u001b[0;34m=\u001b[0m \u001b[0mxp\u001b[0m\u001b[0;34m.\u001b[0m\u001b[0mastype\u001b[0m\u001b[0;34m(\u001b[0m\u001b[0marray\u001b[0m\u001b[0;34m,\u001b[0m \u001b[0mdtype\u001b[0m\u001b[0;34m,\u001b[0m \u001b[0mcopy\u001b[0m\u001b[0;34m=\u001b[0m\u001b[0;32mFalse\u001b[0m\u001b[0;34m)\u001b[0m\u001b[0;34m\u001b[0m\u001b[0;34m\u001b[0m\u001b[0m\n\u001b[1;32m    878\u001b[0m                 \u001b[0;32melse\u001b[0m\u001b[0;34m:\u001b[0m\u001b[0;34m\u001b[0m\u001b[0;34m\u001b[0m\u001b[0m\n\u001b[1;32m    879\u001b[0m                     \u001b[0marray\u001b[0m \u001b[0;34m=\u001b[0m \u001b[0m_asarray_with_order\u001b[0m\u001b[0;34m(\u001b[0m\u001b[0marray\u001b[0m\u001b[0;34m,\u001b[0m \u001b[0morder\u001b[0m\u001b[0;34m=\u001b[0m\u001b[0morder\u001b[0m\u001b[0;34m,\u001b[0m \u001b[0mdtype\u001b[0m\u001b[0;34m=\u001b[0m\u001b[0mdtype\u001b[0m\u001b[0;34m,\u001b[0m \u001b[0mxp\u001b[0m\u001b[0;34m=\u001b[0m\u001b[0mxp\u001b[0m\u001b[0;34m)\u001b[0m\u001b[0;34m\u001b[0m\u001b[0;34m\u001b[0m\u001b[0m\n\u001b[0;32m--> 880\u001b[0;31m             \u001b[0;32mexcept\u001b[0m \u001b[0mComplexWarning\u001b[0m \u001b[0;32mas\u001b[0m \u001b[0mcomplex_warning\u001b[0m\u001b[0;34m:\u001b[0m\u001b[0;34m\u001b[0m\u001b[0;34m\u001b[0m\u001b[0m\n\u001b[0m\u001b[1;32m    881\u001b[0m                 raise ValueError(\n\u001b[1;32m    882\u001b[0m                     \u001b[0;34m\"Complex data not supported\\n{}\\n\"\u001b[0m\u001b[0;34m.\u001b[0m\u001b[0mformat\u001b[0m\u001b[0;34m(\u001b[0m\u001b[0marray\u001b[0m\u001b[0;34m)\u001b[0m\u001b[0;34m\u001b[0m\u001b[0;34m\u001b[0m\u001b[0m\n\u001b[1;32m    883\u001b[0m                 ) from complex_warning\n",
      "\u001b[0;32m~/anaconda3/envs/ai-demo/lib/python3.11/site-packages/sklearn/utils/_array_api.py\u001b[0m in \u001b[0;36m?\u001b[0;34m(array, dtype, order, copy, xp)\u001b[0m\n\u001b[1;32m    181\u001b[0m     \u001b[0;32mif\u001b[0m \u001b[0mxp\u001b[0m \u001b[0;32mis\u001b[0m \u001b[0;32mNone\u001b[0m\u001b[0;34m:\u001b[0m\u001b[0;34m\u001b[0m\u001b[0;34m\u001b[0m\u001b[0m\n\u001b[1;32m    182\u001b[0m         \u001b[0mxp\u001b[0m\u001b[0;34m,\u001b[0m \u001b[0m_\u001b[0m \u001b[0;34m=\u001b[0m \u001b[0mget_namespace\u001b[0m\u001b[0;34m(\u001b[0m\u001b[0marray\u001b[0m\u001b[0;34m)\u001b[0m\u001b[0;34m\u001b[0m\u001b[0;34m\u001b[0m\u001b[0m\n\u001b[1;32m    183\u001b[0m     \u001b[0;32mif\u001b[0m \u001b[0mxp\u001b[0m\u001b[0;34m.\u001b[0m\u001b[0m__name__\u001b[0m \u001b[0;32min\u001b[0m \u001b[0;34m{\u001b[0m\u001b[0;34m\"numpy\"\u001b[0m\u001b[0;34m,\u001b[0m \u001b[0;34m\"numpy.array_api\"\u001b[0m\u001b[0;34m}\u001b[0m\u001b[0;34m:\u001b[0m\u001b[0;34m\u001b[0m\u001b[0;34m\u001b[0m\u001b[0m\n\u001b[1;32m    184\u001b[0m         \u001b[0;31m# Use NumPy API to support order\u001b[0m\u001b[0;34m\u001b[0m\u001b[0;34m\u001b[0m\u001b[0m\n\u001b[0;32m--> 185\u001b[0;31m         \u001b[0marray\u001b[0m \u001b[0;34m=\u001b[0m \u001b[0mnumpy\u001b[0m\u001b[0;34m.\u001b[0m\u001b[0masarray\u001b[0m\u001b[0;34m(\u001b[0m\u001b[0marray\u001b[0m\u001b[0;34m,\u001b[0m \u001b[0morder\u001b[0m\u001b[0;34m=\u001b[0m\u001b[0morder\u001b[0m\u001b[0;34m,\u001b[0m \u001b[0mdtype\u001b[0m\u001b[0;34m=\u001b[0m\u001b[0mdtype\u001b[0m\u001b[0;34m)\u001b[0m\u001b[0;34m\u001b[0m\u001b[0;34m\u001b[0m\u001b[0m\n\u001b[0m\u001b[1;32m    186\u001b[0m         \u001b[0;32mreturn\u001b[0m \u001b[0mxp\u001b[0m\u001b[0;34m.\u001b[0m\u001b[0masarray\u001b[0m\u001b[0;34m(\u001b[0m\u001b[0marray\u001b[0m\u001b[0;34m,\u001b[0m \u001b[0mcopy\u001b[0m\u001b[0;34m=\u001b[0m\u001b[0mcopy\u001b[0m\u001b[0;34m)\u001b[0m\u001b[0;34m\u001b[0m\u001b[0;34m\u001b[0m\u001b[0m\n\u001b[1;32m    187\u001b[0m     \u001b[0;32melse\u001b[0m\u001b[0;34m:\u001b[0m\u001b[0;34m\u001b[0m\u001b[0;34m\u001b[0m\u001b[0m\n\u001b[1;32m    188\u001b[0m         \u001b[0;32mreturn\u001b[0m \u001b[0mxp\u001b[0m\u001b[0;34m.\u001b[0m\u001b[0masarray\u001b[0m\u001b[0;34m(\u001b[0m\u001b[0marray\u001b[0m\u001b[0;34m,\u001b[0m \u001b[0mdtype\u001b[0m\u001b[0;34m=\u001b[0m\u001b[0mdtype\u001b[0m\u001b[0;34m,\u001b[0m \u001b[0mcopy\u001b[0m\u001b[0;34m=\u001b[0m\u001b[0mcopy\u001b[0m\u001b[0;34m)\u001b[0m\u001b[0;34m\u001b[0m\u001b[0;34m\u001b[0m\u001b[0m\n",
      "\u001b[0;32m~/anaconda3/envs/ai-demo/lib/python3.11/site-packages/pandas/core/generic.py\u001b[0m in \u001b[0;36m?\u001b[0;34m(self, dtype)\u001b[0m\n\u001b[1;32m   2082\u001b[0m     \u001b[0;32mdef\u001b[0m \u001b[0m__array__\u001b[0m\u001b[0;34m(\u001b[0m\u001b[0mself\u001b[0m\u001b[0;34m,\u001b[0m \u001b[0mdtype\u001b[0m\u001b[0;34m:\u001b[0m \u001b[0mnpt\u001b[0m\u001b[0;34m.\u001b[0m\u001b[0mDTypeLike\u001b[0m \u001b[0;34m|\u001b[0m \u001b[0;32mNone\u001b[0m \u001b[0;34m=\u001b[0m \u001b[0;32mNone\u001b[0m\u001b[0;34m)\u001b[0m \u001b[0;34m->\u001b[0m \u001b[0mnp\u001b[0m\u001b[0;34m.\u001b[0m\u001b[0mndarray\u001b[0m\u001b[0;34m:\u001b[0m\u001b[0;34m\u001b[0m\u001b[0;34m\u001b[0m\u001b[0m\n\u001b[1;32m   2083\u001b[0m         \u001b[0mvalues\u001b[0m \u001b[0;34m=\u001b[0m \u001b[0mself\u001b[0m\u001b[0;34m.\u001b[0m\u001b[0m_values\u001b[0m\u001b[0;34m\u001b[0m\u001b[0;34m\u001b[0m\u001b[0m\n\u001b[0;32m-> 2084\u001b[0;31m         \u001b[0marr\u001b[0m \u001b[0;34m=\u001b[0m \u001b[0mnp\u001b[0m\u001b[0;34m.\u001b[0m\u001b[0masarray\u001b[0m\u001b[0;34m(\u001b[0m\u001b[0mvalues\u001b[0m\u001b[0;34m,\u001b[0m \u001b[0mdtype\u001b[0m\u001b[0;34m=\u001b[0m\u001b[0mdtype\u001b[0m\u001b[0;34m)\u001b[0m\u001b[0;34m\u001b[0m\u001b[0;34m\u001b[0m\u001b[0m\n\u001b[0m\u001b[1;32m   2085\u001b[0m         if (\n\u001b[1;32m   2086\u001b[0m             \u001b[0mastype_is_view\u001b[0m\u001b[0;34m(\u001b[0m\u001b[0mvalues\u001b[0m\u001b[0;34m.\u001b[0m\u001b[0mdtype\u001b[0m\u001b[0;34m,\u001b[0m \u001b[0marr\u001b[0m\u001b[0;34m.\u001b[0m\u001b[0mdtype\u001b[0m\u001b[0;34m)\u001b[0m\u001b[0;34m\u001b[0m\u001b[0;34m\u001b[0m\u001b[0m\n\u001b[1;32m   2087\u001b[0m             \u001b[0;32mand\u001b[0m \u001b[0musing_copy_on_write\u001b[0m\u001b[0;34m(\u001b[0m\u001b[0;34m)\u001b[0m\u001b[0;34m\u001b[0m\u001b[0;34m\u001b[0m\u001b[0m\n",
      "\u001b[0;31mValueError\u001b[0m: could not convert string to float: 'tcp'"
     ]
    }
   ],
   "source": [
    "# start_time = time.time()\n",
    "Y_test_pred6 = GB_exported.predict(from_sample)\n",
    "# end_time = time.time()\n",
    "print(Y_test_pred6 + DE )"
   ]
  },
  {
   "cell_type": "code",
   "execution_count": null,
   "metadata": {},
   "outputs": [
    {
     "name": "stdout",
     "output_type": "stream",
     "text": [
      "['probe Detected on the host network']\n"
     ]
    },
    {
     "name": "stderr",
     "output_type": "stream",
     "text": [
      "/Users/akhilsamvarghese/anaconda3/envs/ai-demo/lib/python3.11/site-packages/sklearn/base.py:432: UserWarning: X has feature names, but GradientBoostingClassifier was fitted without feature names\n",
      "  warnings.warn(\n"
     ]
    }
   ],
   "source": [
    "# start_time = time.time()\n",
    "Y_test_pred6 = GB_exported.predict(data1)\n",
    "# end_time = time.time()\n",
    "print(Y_test_pred6 + DE )"
   ]
  },
  {
   "cell_type": "code",
   "execution_count": 36,
   "metadata": {},
   "outputs": [
    {
     "name": "stdout",
     "output_type": "stream",
     "text": [
      "['u2r Detected on the host network']\n"
     ]
    },
    {
     "name": "stderr",
     "output_type": "stream",
     "text": [
      "/Users/akhilsamvarghese/anaconda3/envs/ai-demo/lib/python3.11/site-packages/sklearn/base.py:432: UserWarning: X has feature names, but GradientBoostingClassifier was fitted without feature names\n",
      "  warnings.warn(\n"
     ]
    }
   ],
   "source": [
    "# start_time = time.time()\n",
    "Y_test_pred6 = GB_exported.predict(data2)\n",
    "# end_time = time.time()\n",
    "print(Y_test_pred6 + DE )"
   ]
  },
  {
   "cell_type": "code",
   "execution_count": 37,
   "metadata": {},
   "outputs": [
    {
     "name": "stdout",
     "output_type": "stream",
     "text": [
      "['r2l Detected on the host network']\n"
     ]
    },
    {
     "name": "stderr",
     "output_type": "stream",
     "text": [
      "/Users/akhilsamvarghese/anaconda3/envs/ai-demo/lib/python3.11/site-packages/sklearn/base.py:432: UserWarning: X has feature names, but GradientBoostingClassifier was fitted without feature names\n",
      "  warnings.warn(\n"
     ]
    }
   ],
   "source": [
    "start_time = time.time()\n",
    "Y_test_pred6 = GB_exported.predict(data_normal)\n",
    "end_time = time.time()\n",
    "print(Y_test_pred6 + DE )"
   ]
  },
  {
   "cell_type": "code",
   "execution_count": null,
   "metadata": {},
   "outputs": [
    {
     "name": "stdout",
     "output_type": "stream",
     "text": [
      "['dos Detected on the host network']\n"
     ]
    },
    {
     "name": "stderr",
     "output_type": "stream",
     "text": [
      "/Users/akhilsamvarghese/anaconda3/envs/ai-demo/lib/python3.11/site-packages/sklearn/base.py:432: UserWarning: X has feature names, but GradientBoostingClassifier was fitted without feature names\n",
      "  warnings.warn(\n"
     ]
    }
   ],
   "source": [
    "start_time = time.time()\n",
    "Y_test_pred6 = GB_exported.predict(data_normal1)\n",
    "end_time = time.time()\n",
    "print(Y_test_pred6 + DE )"
   ]
  },
  {
   "cell_type": "code",
   "execution_count": 80,
   "metadata": {},
   "outputs": [
    {
     "name": "stdout",
     "output_type": "stream",
     "text": [
      "['r2l Detected on the host network']\n"
     ]
    },
    {
     "name": "stderr",
     "output_type": "stream",
     "text": [
      "/Users/akhilsamvarghese/anaconda3/envs/ai-demo/lib/python3.11/site-packages/sklearn/base.py:432: UserWarning: X has feature names, but GradientBoostingClassifier was fitted without feature names\n",
      "  warnings.warn(\n"
     ]
    }
   ],
   "source": [
    "start_time = time.time()\n",
    "Y_test_pred6 = GB_exported.predict(new_row)\n",
    "end_time = time.time()\n",
    "print(Y_test_pred6 + DE )"
   ]
  }
 ],
 "metadata": {
  "kernelspec": {
   "display_name": "ai-demo",
   "language": "python",
   "name": "python3"
  },
  "language_info": {
   "codemirror_mode": {
    "name": "ipython",
    "version": 3
   },
   "file_extension": ".py",
   "mimetype": "text/x-python",
   "name": "python",
   "nbconvert_exporter": "python",
   "pygments_lexer": "ipython3",
   "version": "3.11.8"
  }
 },
 "nbformat": 4,
 "nbformat_minor": 2
}
